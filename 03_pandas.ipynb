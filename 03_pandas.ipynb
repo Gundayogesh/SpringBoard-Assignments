{
 "cells": [
  {
   "cell_type": "code",
   "execution_count": 1,
   "metadata": {},
   "outputs": [],
   "source": [
    "import numpy as np\n",
    "import pandas as pd\n"
   ]
  },
  {
   "cell_type": "code",
   "execution_count": 2,
   "metadata": {},
   "outputs": [],
   "source": [
    "pets = pd.DataFrame({'sex': np.array(['M', 'M', 'F', 'M', 'F', 'F', 'F', 'M', 'F', 'M']),\n",
    "                   'age': np.array([21, 45, 23, 56, 47, 70, 34, 30, 19, 62]),\n",
    "                   'pets': np.array([['cat', 'dog'],\n",
    "                                    ['hamster'],\n",
    "                                    ['cat', 'gerbil'],\n",
    "                                    ['fish', 'hamster', 'gerbil'],\n",
    "                                    ['cat'],\n",
    "                                    ['dog'],\n",
    "                                    ['dog'],\n",
    "                                    ['cat'],\n",
    "                                    ['rabbit', 'cat'],\n",
    "                                    ['dog']])})"
   ]
  },
  {
   "cell_type": "code",
   "execution_count": 12,
   "metadata": {},
   "outputs": [
    {
     "data": {
      "text/plain": [
       "8    F\n",
       "Name: sex, dtype: object"
      ]
     },
     "execution_count": 12,
     "metadata": {},
     "output_type": "execute_result"
    }
   ],
   "source": [
    "#What sex was youngest respondent\n",
    "age=pets['age'].min()\n",
    "age\n",
    "\n",
    "pets.loc[pets['age'] == min(pets['age']), 'sex']"
   ]
  },
  {
   "cell_type": "code",
   "execution_count": 17,
   "metadata": {
    "scrolled": true
   },
   "outputs": [
    {
     "data": {
      "text/plain": [
       "3    56\n",
       "Name: age, dtype: int32"
      ]
     },
     "execution_count": 17,
     "metadata": {},
     "output_type": "execute_result"
    }
   ],
   "source": [
    "# what age was the prson with most pets\n",
    "pets['num_pets']=pets['pets'].apply(lambda x:len(x))\n",
    "pets\n",
    "pets.loc[pets['num_pets'] == max(pets['num_pets']),'age']"
   ]
  },
  {
   "cell_type": "code",
   "execution_count": 22,
   "metadata": {},
   "outputs": [
    {
     "data": {
      "text/plain": [
       "'cat'"
      ]
     },
     "execution_count": 22,
     "metadata": {},
     "output_type": "execute_result"
    }
   ],
   "source": [
    "#most popular pet\n",
    "list=pets['pets'].tolist()\n",
    "list2=[y for i in list for y in i]\n",
    "animal=max(set(list2), key=list2.count)\n",
    "animal"
   ]
  },
  {
   "cell_type": "code",
   "execution_count": 62,
   "metadata": {
    "scrolled": false
   },
   "outputs": [
    {
     "data": {
      "text/html": [
       "<div>\n",
       "<style scoped>\n",
       "    .dataframe tbody tr th:only-of-type {\n",
       "        vertical-align: middle;\n",
       "    }\n",
       "\n",
       "    .dataframe tbody tr th {\n",
       "        vertical-align: top;\n",
       "    }\n",
       "\n",
       "    .dataframe thead th {\n",
       "        text-align: right;\n",
       "    }\n",
       "</style>\n",
       "<table border=\"1\" class=\"dataframe\">\n",
       "  <thead>\n",
       "    <tr style=\"text-align: right;\">\n",
       "      <th></th>\n",
       "      <th>sex</th>\n",
       "      <th>age</th>\n",
       "      <th>pets</th>\n",
       "      <th>num_pets</th>\n",
       "      <th>dog</th>\n",
       "    </tr>\n",
       "  </thead>\n",
       "  <tbody>\n",
       "    <tr>\n",
       "      <td>0</td>\n",
       "      <td>M</td>\n",
       "      <td>21</td>\n",
       "      <td>[cat, dog]</td>\n",
       "      <td>2</td>\n",
       "      <td>True</td>\n",
       "    </tr>\n",
       "    <tr>\n",
       "      <td>1</td>\n",
       "      <td>M</td>\n",
       "      <td>45</td>\n",
       "      <td>[hamster]</td>\n",
       "      <td>1</td>\n",
       "      <td>False</td>\n",
       "    </tr>\n",
       "    <tr>\n",
       "      <td>2</td>\n",
       "      <td>F</td>\n",
       "      <td>23</td>\n",
       "      <td>[cat, gerbil]</td>\n",
       "      <td>2</td>\n",
       "      <td>False</td>\n",
       "    </tr>\n",
       "    <tr>\n",
       "      <td>3</td>\n",
       "      <td>M</td>\n",
       "      <td>56</td>\n",
       "      <td>[fish, hamster, gerbil]</td>\n",
       "      <td>3</td>\n",
       "      <td>False</td>\n",
       "    </tr>\n",
       "    <tr>\n",
       "      <td>4</td>\n",
       "      <td>F</td>\n",
       "      <td>47</td>\n",
       "      <td>[cat]</td>\n",
       "      <td>1</td>\n",
       "      <td>False</td>\n",
       "    </tr>\n",
       "    <tr>\n",
       "      <td>5</td>\n",
       "      <td>F</td>\n",
       "      <td>70</td>\n",
       "      <td>[dog]</td>\n",
       "      <td>1</td>\n",
       "      <td>True</td>\n",
       "    </tr>\n",
       "    <tr>\n",
       "      <td>6</td>\n",
       "      <td>F</td>\n",
       "      <td>34</td>\n",
       "      <td>[dog]</td>\n",
       "      <td>1</td>\n",
       "      <td>True</td>\n",
       "    </tr>\n",
       "    <tr>\n",
       "      <td>7</td>\n",
       "      <td>M</td>\n",
       "      <td>30</td>\n",
       "      <td>[cat]</td>\n",
       "      <td>1</td>\n",
       "      <td>False</td>\n",
       "    </tr>\n",
       "    <tr>\n",
       "      <td>8</td>\n",
       "      <td>F</td>\n",
       "      <td>19</td>\n",
       "      <td>[rabbit, cat]</td>\n",
       "      <td>2</td>\n",
       "      <td>False</td>\n",
       "    </tr>\n",
       "    <tr>\n",
       "      <td>9</td>\n",
       "      <td>M</td>\n",
       "      <td>62</td>\n",
       "      <td>[dog]</td>\n",
       "      <td>1</td>\n",
       "      <td>True</td>\n",
       "    </tr>\n",
       "  </tbody>\n",
       "</table>\n",
       "</div>"
      ],
      "text/plain": [
       "  sex  age                     pets  num_pets    dog\n",
       "0   M   21               [cat, dog]         2   True\n",
       "1   M   45                [hamster]         1  False\n",
       "2   F   23            [cat, gerbil]         2  False\n",
       "3   M   56  [fish, hamster, gerbil]         3  False\n",
       "4   F   47                    [cat]         1  False\n",
       "5   F   70                    [dog]         1   True\n",
       "6   F   34                    [dog]         1   True\n",
       "7   M   30                    [cat]         1  False\n",
       "8   F   19            [rabbit, cat]         2  False\n",
       "9   M   62                    [dog]         1   True"
      ]
     },
     "execution_count": 62,
     "metadata": {},
     "output_type": "execute_result"
    }
   ],
   "source": [
    "# Average age of dog owners\n",
    "pets['dog']=pets['pets'].apply(lambda x:'dog' in x)\n",
    "pets\n",
    "\n",
    "## x=[age[i] for i in range(len(dog)) if dog[i]=='True']\n"
   ]
  },
  {
   "cell_type": "code",
   "execution_count": 59,
   "metadata": {},
   "outputs": [
    {
     "data": {
      "text/plain": [
       "46.75"
      ]
     },
     "execution_count": 59,
     "metadata": {},
     "output_type": "execute_result"
    }
   ],
   "source": [
    "#Average age of dog owners\n",
    "age=pets['age'].tolist()\n",
    "dog=pets['dog'].tolist()\n",
    "owners_age_having_Dog=[age[i] for i in range(0,len(age)) if dog[i]==True]\n",
    "np.array(owners_age_having_Dog).mean()\n",
    "\n"
   ]
  },
  {
   "cell_type": "code",
   "execution_count": null,
   "metadata": {},
   "outputs": [],
   "source": []
  }
 ],
 "metadata": {
  "kernelspec": {
   "display_name": "Python 3",
   "language": "python",
   "name": "python3"
  },
  "language_info": {
   "codemirror_mode": {
    "name": "ipython",
    "version": 3
   },
   "file_extension": ".py",
   "mimetype": "text/x-python",
   "name": "python",
   "nbconvert_exporter": "python",
   "pygments_lexer": "ipython3",
   "version": "3.7.4"
  }
 },
 "nbformat": 4,
 "nbformat_minor": 2
}
